{
  "nbformat": 4,
  "nbformat_minor": 0,
  "metadata": {
    "colab": {
      "name": "NLP 2021 - Homework 1 - second approach.ipynb",
      "provenance": [],
      "collapsed_sections": [
        "39cvGL1shJoY"
      ],
      "toc_visible": true,
      "authorship_tag": "ABX9TyN1UU8HbR8aizbggJNVoumA",
      "include_colab_link": true
    },
    "kernelspec": {
      "display_name": "Python 3",
      "name": "python3"
    },
    "language_info": {
      "name": "python"
    },
    "accelerator": "GPU"
  },
  "cells": [
    {
      "cell_type": "markdown",
      "metadata": {
        "id": "view-in-github",
        "colab_type": "text"
      },
      "source": [
        "<a href=\"https://colab.research.google.com/github/andrea-gasparini/nlp-word-in-context-disambiguation/blob/sequence-encoding/hw1/stud/sequence-encoding.ipynb\" target=\"_parent\"><img src=\"https://colab.research.google.com/assets/colab-badge.svg\" alt=\"Open In Colab\"/></a>"
      ]
    },
    {
      "cell_type": "markdown",
      "source": [
        "# Word-in-Context (WiC) Disambiguation\n",
        "\n",
        "First homework of the Natural Language Processing course 2021 @ Sapienza University of Rome.\n",
        "\n",
        "Prof. Roberto Navigli\n",
        "\n",
        "MSc in Computer Science\n",
        "\n",
        "This notebook contains the code for the sequence encoding (second approach) solution.\n",
        "\n",
        "**Author**: Andrea Gasparini - 1813486"
      ],
      "metadata": {
        "id": "1i9rTw4W4ePQ"
      }
    },
    {
      "cell_type": "markdown",
      "metadata": {
        "id": "BHPvMlXuyflb"
      },
      "source": [
        "# Setup the environment"
      ]
    },
    {
      "cell_type": "code",
      "metadata": {
        "id": "1fUsg3ll0DmB",
        "colab": {
          "base_uri": "https://localhost:8080/"
        },
        "cellView": "form",
        "outputId": "f19a0f16-5868-4de2-9310-2c0e405cb261"
      },
      "source": [
        "# @title Imports\n",
        "\n",
        "!pip install jsonlines\n",
        "\n",
        "import jsonlines\n",
        "import json\n",
        "import os\n",
        "import re\n",
        "\n",
        "from typing import *\n",
        "from collections import Counter, defaultdict\n",
        "from matplotlib import pyplot as plt\n",
        "from tqdm.notebook import tqdm\n",
        "from sklearn.metrics import precision_score, recall_score, f1_score, accuracy_score\n",
        "\n",
        "import torch\n",
        "\n",
        "from torch import Tensor\n",
        "from torch.utils.data import Dataset, DataLoader"
      ],
      "execution_count": null,
      "outputs": [
        {
          "output_type": "stream",
          "text": [
            "Requirement already satisfied: jsonlines in /usr/local/lib/python3.7/dist-packages (2.0.0)\n"
          ],
          "name": "stdout"
        }
      ]
    },
    {
      "cell_type": "markdown",
      "metadata": {
        "id": "BEMCehFE4gKQ"
      },
      "source": [
        ""
      ]
    },
    {
      "cell_type": "code",
      "metadata": {
        "colab": {
          "base_uri": "https://localhost:8080/"
        },
        "id": "hXpXvuQ0ifbg",
        "cellView": "form",
        "outputId": "598ec73f-daba-4256-8922-48888e416db5"
      },
      "source": [
        "# @title Init Drive directories\n",
        "\n",
        "from google.colab import drive\n",
        "drive.mount('/content/drive', force_remount=True)\n",
        "\n",
        "ROOT_DIR = '/content/drive/My Drive/nlp_data/hw1/'\n",
        "\n",
        "assert os.path.isdir(ROOT_DIR), f\"{ROOT_DIR} is not a valid root directory\"\n",
        "\n",
        "TRAIN_JSONL = os.path.join(ROOT_DIR, \"train.jsonl\")\n",
        "\n",
        "assert os.path.isfile(TRAIN_JSONL), f\"{TRAIN_JSONL} does not contain a valid train dataset\"\n",
        "\n",
        "DEV_JSONL = os.path.join(ROOT_DIR, \"dev.jsonl\")\n",
        "\n",
        "assert os.path.isfile(DEV_JSONL), f\"{DEV_JSONL} does not contain a valid development dataset\"\n",
        "\n",
        "GLOVE_DIR = '/content/data/glove/'"
      ],
      "execution_count": null,
      "outputs": [
        {
          "output_type": "stream",
          "text": [
            "Mounted at /content/drive\n"
          ],
          "name": "stdout"
        }
      ]
    },
    {
      "cell_type": "code",
      "metadata": {
        "id": "wvD9q1yCzKqV",
        "cellView": "form"
      },
      "source": [
        "# @title Util functions\n",
        "\n",
        "\n",
        "def str_to_bool(s : str) -> bool:\n",
        "    return s == 'True'\n",
        "\n",
        "\n",
        "def visualize_distribution(dataset: str, title: str):\n",
        "    label_counter = Counter()\n",
        "\n",
        "    with open(dataset) as f:\n",
        "        for line in f:\n",
        "            sample = json.loads(line)\n",
        "            label = str_to_bool(sample['label'])\n",
        "            label_counter[label] += 1\n",
        "    \n",
        "    values = [label_counter[label] for label in label_counter]\n",
        "    labels = [str(label) for label in label_counter]\n",
        "\n",
        "    plt.bar(labels, values)\n",
        "    plt.title(title)\n",
        "    plt.show()\n",
        "\n",
        "\n",
        "def cosine_similarity(v1: torch.Tensor, v2: torch.Tensor) -> float:\n",
        "    num = torch.sum(v1 * v2)\n",
        "    den = torch.linalg.norm(v1) * torch.linalg.norm(v2)\n",
        "    return (num / den).item()\n",
        "\n",
        "\n",
        "def plot_logs(logs: Dict, title: str):\n",
        "\n",
        "    plt.figure(figsize=(8,6))\n",
        "\n",
        "    plt.plot(list(range(len(logs['train_history']))), logs['train_history'], label='Train loss')\n",
        "    if 'valid_history' in logs:\n",
        "        plt.plot(list(range(len(logs['valid_history']))), logs['valid_history'], label='Validation loss')\n",
        "    \n",
        "    plt.title(title)\n",
        "    plt.xlabel('Epochs')\n",
        "    plt.ylabel('Loss')\n",
        "    plt.legend(loc=\"upper right\")\n",
        "\n",
        "    plt.show()"
      ],
      "execution_count": null,
      "outputs": []
    },
    {
      "cell_type": "markdown",
      "metadata": {
        "id": "wnc-1Gx5yY-9"
      },
      "source": [
        "# Plot distributions"
      ]
    },
    {
      "cell_type": "code",
      "metadata": {
        "colab": {
          "base_uri": "https://localhost:8080/",
          "height": 545
        },
        "id": "E_-ARFzynB_Z",
        "cellView": "form",
        "outputId": "3d10b0dd-430f-4c49-c40a-9fdc6e19e78a"
      },
      "source": [
        "# @title\n",
        "\n",
        "visualize_distribution(TRAIN_JSONL, 'Train labels distribution')\n",
        "visualize_distribution(DEV_JSONL, 'Dev labels distribution')\n",
        "# visualize_distribution(os.path.join(ROOT_DIR, \"new_train.jsonl\"), 'New train labels distribution')\n",
        "# visualize_distribution(os.path.join(ROOT_DIR, \"test.jsonl\"), 'Test labels distribution')"
      ],
      "execution_count": null,
      "outputs": [
        {
          "output_type": "display_data",
          "data": {
            "image/png": "[encoded data removed]",
            "text/plain": [
              "<Figure size 432x288 with 1 Axes>"
            ]
          },
          "metadata": {
            "tags": [],
            "needs_background": "light"
          }
        },
        {
          "output_type": "display_data",
          "data": {
            "image/png": "[encoded data removed]",
            "text/plain": [
              "<Figure size 432x288 with 1 Axes>"
            ]
          },
          "metadata": {
            "tags": [],
            "needs_background": "light"
          }
        }
      ]
    },
    {
      "cell_type": "markdown",
      "metadata": {
        "id": "1_BHN9ojqfok"
      },
      "source": [
        "# Word embeddings"
      ]
    },
    {
      "cell_type": "markdown",
      "metadata": {
        "id": "EaRFCFjYqySt"
      },
      "source": [
        "Download pre-trained GloVe word vectors and move them in a data folder"
      ]
    },
    {
      "cell_type": "code",
      "metadata": {
        "id": "gSEL_9mmp0aX"
      },
      "source": [
        "GLOVE_ARCHIVE = \"glove.6B.zip\"\n",
        "\n",
        "# ! mkdir -p {GLOVE_DIR}\n",
        "# ! wget http://nlp.stanford.edu/data/{GLOVE_ARCHIVE} -P {GLOVE_DIR}\n",
        "# ! unzip {GLOVE_DIR}{GLOVE_ARCHIVE} -d {GLOVE_DIR}\n",
        "# ! rm {GLOVE_DIR}{GLOVE_ARCHIVE}"
      ],
      "execution_count": null,
      "outputs": []
    },
    {
      "cell_type": "markdown",
      "metadata": {
        "id": "KPIzG4KjJ3vG"
      },
      "source": [
        "## Init the word vectors dictionary"
      ]
    },
    {
      "cell_type": "code",
      "metadata": {
        "id": "YXqG2LGze1Zl"
      },
      "source": [
        "class WordEmbeddings:\n",
        "    embeddings_dir = ROOT_DIR\n",
        "    unknown_embedding_files = {\n",
        "        200: \"unknown.200d.txt\"\n",
        "    }\n",
        "    padding_embedding_files = {\n",
        "        200: \"padding.200d.txt\"\n",
        "    }\n",
        "    glove_dir = GLOVE_DIR\n",
        "    embedding_files = {\n",
        "        50: \"glove.6B.50d.txt\",\n",
        "        100: \"glove.6B.100d.txt\",\n",
        "        200: \"glove.6B.200d.txt\",\n",
        "        300: \"glove.6B.300d.txt\"\n",
        "    }\n",
        "\n",
        "    def __init__(self, words_limit: int = 100_000, embedding_size: int = 200):\n",
        "        assert embedding_size in self.embedding_files, f\"Unsupported embedding size: {embedding_size}\"\n",
        "\n",
        "        self.words_limit = words_limit\n",
        "        self.embedding_size = embedding_size\n",
        "\n",
        "        self._init_unknown_embedding()\n",
        "        self.PAD = torch.zeros(embedding_size)\n",
        "        #self._init_padding_embedding()\n",
        "\n",
        "\n",
        "        self.word_vectors = defaultdict(lambda: self.UNK)\n",
        "        self._init_data()\n",
        "                \n",
        "        self.vectors_store = [self.PAD, self.UNK]\n",
        "        self.word_indexes = defaultdict(lambda: 1) # i.e. the index of UNK token\n",
        "\n",
        "        for word, vector in self.word_vectors.items():\n",
        "            self.word_indexes[word] = len(self.vectors_store)\n",
        "            self.vectors_store.append(vector)\n",
        "\n",
        "        self.vectors_store = torch.stack(self.vectors_store)\n",
        "\n",
        "    def _init_unknown_embedding(self):\n",
        "        assert self.embedding_size in self.unknown_embedding_files, f\"Unsupported embedding size: {self.embedding_size}\"\n",
        "\n",
        "        filename = self.unknown_embedding_files[self.embedding_size]\n",
        "        file_path = os.path.join(self.embeddings_dir, filename)\n",
        "        assert os.path.isfile(file_path), f\"unknown word embedding {filename} not found in {self.embeddings_dir}\"\n",
        "\n",
        "        with open(file_path) as f:\n",
        "            vector = f.readline().strip().split(' ')\n",
        "            self.UNK = torch.tensor([float(c) for c in vector])\n",
        "\n",
        "    def _init_padding_embedding(self):\n",
        "        assert self.embedding_size in self.padding_embedding_files, f\"Unsupported embedding size: {self.embedding_size}\"\n",
        "\n",
        "        filename = self.padding_embedding_files[self.embedding_size]\n",
        "        file_path = os.path.join(self.embeddings_dir, filename)\n",
        "        assert os.path.isfile(file_path), f\"padding word embedding {filename} not found in {self.embeddings_dir}\"\n",
        "\n",
        "        with open(file_path) as f:\n",
        "            vector = f.readline().strip().split(' ')\n",
        "            self.PAD = torch.tensor([float(c) for c in vector])\n",
        "\n",
        "    def _init_data(self):\n",
        "        filename = self.embedding_files[self.embedding_size]\n",
        "        file_path = os.path.join(self.glove_dir, filename)\n",
        "\n",
        "        if not os.path.isfile(file_path):\n",
        "            file_path = os.path.join(ROOT_DIR, filename)\n",
        "            print(f\"Loaded from {ROOT_DIR}\")\n",
        "            assert os.path.isfile(file_path), f\"GloVe embedding {filename} not found in {self.glove_dir} or {ROOT_DIR}\"        \n",
        "        else:\n",
        "            print(f\"Loaded from {self.glove_dir}\")\n",
        "\n",
        "        with open(file_path) as f:\n",
        "            for i, line in enumerate(f):\n",
        "\n",
        "                if len(self.word_vectors) >= self.words_limit:\n",
        "                    break\n",
        "\n",
        "                word, *vector = line.strip().split(' ')\n",
        "                vector = torch.tensor([float(c) for c in vector])\n",
        "\n",
        "                self.word_vectors[word] = vector\n",
        "\n",
        "    def __contains__(self, word: str) -> bool:\n",
        "        return word in self.word_vectors\n",
        "\n",
        "    def __getitem__(self, word: str) -> torch.Tensor:\n",
        "        return self.word_vectors[word]"
      ],
      "execution_count": null,
      "outputs": []
    },
    {
      "cell_type": "code",
      "metadata": {
        "id": "lgdgfEPnfyQA",
        "colab": {
          "base_uri": "https://localhost:8080/"
        },
        "outputId": "62994b0b-0ece-49a5-a557-3a461b600114"
      },
      "source": [
        "word_vectors = WordEmbeddings()\n",
        "word_index = word_vectors.word_indexes\n",
        "vectors_store = word_vectors.vectors_store"
      ],
      "execution_count": null,
      "outputs": [
        {
          "output_type": "stream",
          "text": [
            "Loaded from /content/drive/My Drive/nlp_data/hw1/\n"
          ],
          "name": "stdout"
        }
      ]
    },
    {
      "cell_type": "markdown",
      "metadata": {
        "id": "Ip0-nmnHU3ug"
      },
      "source": [
        "## Sample to vector function"
      ]
    },
    {
      "cell_type": "code",
      "metadata": {
        "id": "Kcou0Yc-U7Pd",
        "colab": {
          "base_uri": "https://localhost:8080/"
        },
        "outputId": "b7def236-eb75-4687-d20c-9a897d9bcf4b"
      },
      "source": [
        "import nltk\n",
        "from nltk.corpus import stopwords\n",
        "nltk.download('stopwords')\n",
        "stop_words = set(stopwords.words('english'))\n",
        "\n",
        "def substitute_spacing_characters(string: str) -> str:\n",
        "    return re.sub(r'[\\-—_/]', ' ', string)\n",
        "\n",
        "\n",
        "def remove_special_characters(string: str) -> str:\n",
        "    return re.sub(r'[\\.,:;|!?@#$\"“”\\'’\\(\\)\\[\\]&\\\\<>0-9]', '', string)\n",
        "\n",
        "\n",
        "def sentence2indices(word_vectors: WordEmbeddings, sentence: str, target_start: int, target_end: int, target_weight: int) -> List[int]:\n",
        "    sentence = substitute_spacing_characters(sentence).lower()\n",
        "    target_word_index = sentence[:target_start].count(' ')\n",
        "\n",
        "    sentence_word_indices = list()\n",
        "\n",
        "    for i, word in enumerate(sentence.split(' ')):\n",
        "        #if word not in stop_words:\n",
        "        word = remove_special_characters(word)\n",
        "        word_indices = word_vectors.word_index[word]\n",
        "        sentence_word_indices.append(word_indices)\n",
        "\n",
        "    return {\n",
        "        'sentence_word_indices': sentence_word_indices,\n",
        "        'target_word_index': target_word_index\n",
        "    }\n",
        "\n",
        "\n",
        "def sample2indices_tuple(word_vectors: WordEmbeddings, sample: dict, separator: str = '|', target_weight: int = 10) -> Tuple[Dict, Dict]:\n",
        "    sentence1 = sentence2indices(word_vectors, sample['sentence1'], int(sample['start1']), int(sample['end1']), target_weight)\n",
        "    sentence2 = sentence2indices(word_vectors, sample['sentence2'], int(sample['start2']), int(sample['end2']), target_weight)\n",
        "    \n",
        "    return sentence1, sentence2"
      ],
      "execution_count": null,
      "outputs": [
        {
          "output_type": "stream",
          "text": [
            "[nltk_data] Downloading package stopwords to /root/nltk_data...\n",
            "[nltk_data]   Package stopwords is already up-to-date!\n"
          ],
          "name": "stdout"
        }
      ]
    },
    {
      "cell_type": "markdown",
      "metadata": {
        "id": "OfircdliyuTx"
      },
      "source": [
        "# Model creation"
      ]
    },
    {
      "cell_type": "markdown",
      "metadata": {
        "id": "phhssenRdLTT"
      },
      "source": [
        "## Dataset class"
      ]
    },
    {
      "cell_type": "code",
      "metadata": {
        "id": "6ngAkxOEyv5V"
      },
      "source": [
        "class WiCDisambiguationDataset(Dataset):\n",
        "\n",
        "    def __init__(self, samples: List[Dict], word_embeddings: WordEmbeddings) -> None:\n",
        "        self.samples = samples\n",
        "        self.word_embeddings = word_embeddings\n",
        "\n",
        "        self.encoded_samples, self.encoded_labels = self.encode_samples(self.samples)\n",
        "\n",
        "    @staticmethod\n",
        "    def from_file(path: str, word_embeddings: WordEmbeddings) -> 'WiCDisambiguationDataset':\n",
        "        samples = list()\n",
        "\n",
        "        with jsonlines.open(path) as f:\n",
        "            for sample in f:\n",
        "                samples.append(sample)\n",
        "\n",
        "        return WiCDisambiguationDataset(samples, word_embeddings)\n",
        "\n",
        "    def encode_samples(self, samples: List[Dict]) -> Tuple[List[Tuple[Tensor, Tensor]], List[Optional[Tensor]]]:\n",
        "        encoded_samples = list()\n",
        "        encoded_labels = list()\n",
        "\n",
        "        for sample in samples:\n",
        "            sentence1_indexes = self.__sentence_to_indexes(sample['sentence1'], int(sample['start1']))\n",
        "            sentence2_indexes = self.__sentence_to_indexes(sample['sentence2'], int(sample['start2']))\n",
        "            encoded_samples.append((sentence1_indexes, sentence2_indexes))\n",
        "\n",
        "            if 'label' in sample:\n",
        "                encoded_label = torch.tensor(float(1 if str_to_bool(sample['label']) else 0))\n",
        "                encoded_labels.append(encoded_label)\n",
        "            else:\n",
        "                encoded_labels.append(None)\n",
        "\n",
        "        return encoded_samples, encoded_labels\n",
        "\n",
        "    def __sentence_to_indexes(self, sentence: str, target_start: int) -> List[int]:\n",
        "        sentence = substitute_spacing_characters(sentence).lower()\n",
        "        target_word_index = sentence[:target_start].count(' ')\n",
        "        sentence_word_indexes = list()\n",
        "\n",
        "        for i, word in enumerate(sentence.split(' ')):\n",
        "            #if stop_words is None or word not in stop_words:\n",
        "            word = remove_special_characters(word)\n",
        "            word_indices = self.word_embeddings.word_indexes[word]\n",
        "            sentence_word_indexes.append(word_indices)\n",
        "\n",
        "        return {\n",
        "            'sentence_word_indexes': torch.tensor(sentence_word_indexes),\n",
        "            'target_word_index': target_word_index\n",
        "        }\n",
        "\n",
        "    def __len__(self) -> int:\n",
        "        return len(self.encoded_samples)\n",
        "\n",
        "    def __getitem__(self, idx) -> Tuple[Tuple[Tensor, Tensor], Optional[Tensor]]:\n",
        "        return self.encoded_samples[idx], self.encoded_labels[idx]"
      ],
      "execution_count": null,
      "outputs": []
    },
    {
      "cell_type": "markdown",
      "metadata": {
        "id": "-j5DmUQCdMx2"
      },
      "source": [
        "## Classifier"
      ]
    },
    {
      "cell_type": "markdown",
      "metadata": {
        "id": "-V79-M6huZ2H"
      },
      "source": [
        "### HParams class"
      ]
    },
    {
      "cell_type": "code",
      "metadata": {
        "id": "f15lSgyyubZo"
      },
      "source": [
        "class HParams():\n",
        "    hidden_dim = 100\n",
        "    lstm_bidirectional = False\n",
        "    lstm_layers = 1\n",
        "    dropout = 0.0"
      ],
      "execution_count": null,
      "outputs": []
    },
    {
      "cell_type": "markdown",
      "metadata": {
        "id": "crIwMLJcvgEB"
      },
      "source": [
        "### Classifier class"
      ]
    },
    {
      "cell_type": "code",
      "metadata": {
        "id": "G-XDMUHQPlJD"
      },
      "source": [
        "class WiCDisambiguationClassifier(torch.nn.Module):\n",
        "\n",
        "    def __init__(self, hparams : HParams, vectors_store: torch.Tensor, debug: bool = False) -> None:\n",
        "        super().__init__()\n",
        "\n",
        "        self.hparams = hparams\n",
        "        self.vectors_store = vectors_store\n",
        "        self.debug = debug\n",
        "        \n",
        "        # embedding layer\n",
        "        self.embedding = torch.nn.Embedding.from_pretrained(vectors_store)\n",
        "\n",
        "        # recurrent layer\n",
        "        self.rnn = torch.nn.LSTM(input_size=vectors_store.size(1),\n",
        "                                 hidden_size=hparams.hidden_dim,                                 \n",
        "                                 num_layers=hparams.lstm_layers,\n",
        "                                 bidirectional=hparams.lstm_bidirectional,\n",
        "                                 dropout=hparams.dropout if hparams.lstm_layers > 1 else 0,\n",
        "                                 batch_first=True)\n",
        "        \n",
        "        lstm_output_dim = hparams.hidden_dim if hparams.lstm_bidirectional is False else hparams.hidden_dim * 2\n",
        "\n",
        "        concat_sentences_dim = lstm_output_dim * 2\n",
        "\n",
        "        # classification head\n",
        "        self.lin1 = torch.nn.Linear(concat_sentences_dim, concat_sentences_dim)\n",
        "        self.lin2 = torch.nn.Linear(concat_sentences_dim, 1)\n",
        "\n",
        "        # regularization\n",
        "        self.dropout = torch.nn.Dropout(hparams.dropout)\n",
        "        self.relu = torch.nn.ReLU()\n",
        "\n",
        "        # loss function\n",
        "        self.loss_fn = torch.nn.BCELoss()\n",
        "\n",
        "    def forward(self, x: Tuple[torch.Tensor, torch.Tensor], x_length: Tuple[torch.Tensor, torch.Tensor],\n",
        "                y: Optional[torch.Tensor] = None) -> Dict[str, torch.Tensor]:\n",
        "\n",
        "        # embedding words from indices\n",
        "        embedding_out_1 = self.__embedding_step(x[0]['sentence_word_indexes'])\n",
        "        embedding_out_2 = self.__embedding_step(x[1]['sentence_word_indexes'])\n",
        "\n",
        "        # recurrent encoding\n",
        "        recurrent_out_1 = self.__recurrent_step(embedding_out_1)\n",
        "        recurrent_out_2 = self.__recurrent_step(embedding_out_2)\n",
        "\n",
        "        summary_vectors_1 = self.__get_summary_vectors(recurrent_out_1, x_length[0], x[0]['target_word_indexes'])\n",
        "        summary_vectors_2 = self.__get_summary_vectors(recurrent_out_2, x_length[1], x[1]['target_word_indexes'])\n",
        "\n",
        "        summary_vectors = torch.cat((summary_vectors_1, summary_vectors_2), dim=1)\n",
        "        if self.debug: print(f\"summary_vectors: {summary_vectors.shape}\")\n",
        "\n",
        "        out = self.lin1(summary_vectors)\n",
        "        out = self.dropout(out)\n",
        "        if self.debug: print(f\"lin1: {out.shape}\")\n",
        "        out = self.relu(out)\n",
        "        out = self.lin2(out).squeeze(1)\n",
        "        if self.debug: print(f\"lin2: {out.shape}\")\n",
        "\n",
        "        logits = out\n",
        "        pred = torch.sigmoid(logits)\n",
        "\n",
        "        result = {'pred': pred, 'logits': logits}\n",
        "\n",
        "        if y is not None:\n",
        "            loss = self.loss(pred, y)\n",
        "            result['loss'] = loss\n",
        "\n",
        "        return result\n",
        "\n",
        "    def __embedding_step(self, x: torch.Tensor) -> torch.Tensor:\n",
        "        # embedding words from indices\n",
        "        embedding_out = self.embedding(x)\n",
        "        embedding_out = self.dropout(embedding_out)\n",
        "        if self.debug: print(f\"embedding_out: {embedding_out.shape}\")\n",
        "\n",
        "        return embedding_out\n",
        "\n",
        "    def __recurrent_step(self, embedding_out: torch.Tensor):\n",
        "        # recurrent encoding\n",
        "        recurrent_out, _ = self.rnn(embedding_out)\n",
        "        recurrent_out = self.dropout(recurrent_out)        \n",
        "        if self.debug: print(f\"recurrent_out: {recurrent_out.shape}\")\n",
        "        \n",
        "        return recurrent_out\n",
        "\n",
        "    def __get_summary_vectors(self, recurrent_out: torch.Tensor, x_length: torch.Tensor, target_word_index: torch.Tensor):\n",
        "        batch_size, seq_len, hidden_size = recurrent_out.shape\n",
        "\n",
        "        # flattening of the recurrent output to have a long sequence of (batch_size x seq_len) vectors \n",
        "        flattened_out = recurrent_out.reshape(-1, hidden_size)\n",
        "\n",
        "        # computing a tensor of the indices of the last token in each batch element\n",
        "        last_word_relative_indices = x_length - 1\n",
        "        sequences_offsets = torch.arange(batch_size) * seq_len\n",
        "        summary_vectors_indices = sequences_offsets + (target_word_index if self.hparams.lstm_bidirectional else last_word_relative_indices)\n",
        "\n",
        "        # retrieves the vectors that should summarize every review (i.e. the last token in the sequence)\n",
        "        summary_vectors = flattened_out[summary_vectors_indices]        \n",
        "        if self.debug: print(f\"summary_vectors: {summary_vectors.shape}\")\n",
        "\n",
        "        return summary_vectors\n",
        "\n",
        "    def loss(self, pred, y):\n",
        "        return self.loss_fn(pred, y)"
      ],
      "execution_count": null,
      "outputs": []
    },
    {
      "cell_type": "markdown",
      "metadata": {
        "id": "v9N2iVohdReK"
      },
      "source": [
        "# Training"
      ]
    },
    {
      "cell_type": "markdown",
      "metadata": {
        "id": "zt0EK2SMg39M"
      },
      "source": [
        "## collate function"
      ]
    },
    {
      "cell_type": "code",
      "metadata": {
        "id": "gI5QC0NGMlEl"
      },
      "source": [
        "def rnn_collate_fn2(\n",
        "    data_elements: List[Tuple[Tuple[Dict, Dict], torch.Tensor]] # list of (x, y) pairs\n",
        ") -> Tuple[Tuple[torch.Tensor], Tuple[torch.Tensor], torch.Tensor]:\n",
        "\n",
        "    X1 = [de[0][0]['sentence_word_indexes'] for de in data_elements]  # list of index tensors\n",
        "    X2 = [de[0][1]['sentence_word_indexes'] for de in data_elements]  # list of index tensors    \n",
        "    X1_target_word_indexes = torch.tensor([de[0][0]['target_word_index'] for de in data_elements])\n",
        "    X2_target_word_indexes = torch.tensor([de[0][1]['target_word_index'] for de in data_elements])\n",
        "\n",
        "    # to implement the many-to-one strategy\n",
        "    X1_lengths = torch.tensor([x.size(0) for x in X1], dtype=torch.long)\n",
        "    X2_lengths = torch.tensor([x.size(0) for x in X2], dtype=torch.long)\n",
        "\n",
        "    X = X1 + X2\n",
        "    X = torch.nn.utils.rnn.pad_sequence(X, batch_first=True, padding_value=0)  #  shape (batch_size x max_seq_len)\n",
        "    \n",
        "    Y = [de[1] for de in data_elements if de[1] is not None]\n",
        "    Y = torch.tensor(Y) if len(Y) == len(data_elements) else None\n",
        "\n",
        "    X2 = {\n",
        "        'sentence_word_indexes': X[len(X1):len(X)],\n",
        "        'target_word_indexes': X2_target_word_indexes\n",
        "    }\n",
        "    X1 = {\n",
        "        'sentence_word_indexes': X[0:len(X1)],\n",
        "        'target_word_indexes': X1_target_word_indexes\n",
        "    }\n",
        "\n",
        "    return (X1, X2), (X1_lengths, X2_lengths), Y"
      ],
      "execution_count": null,
      "outputs": []
    },
    {
      "cell_type": "markdown",
      "metadata": {
        "id": "39cvGL1shJoY"
      },
      "source": [
        "## Trainer class"
      ]
    },
    {
      "cell_type": "code",
      "metadata": {
        "id": "xhiNCi8ICTn1"
      },
      "source": [
        "class Trainer:\n",
        "\n",
        "    def __init__(self, model: torch.nn.Module, optimizer: torch.optim.Optimizer) -> None:\n",
        "        self.model = model\n",
        "        self.optimizer = optimizer\n",
        "        self.train_history = list()\n",
        "        self.valid_history = list()\n",
        "        self.global_epoch = 0\n",
        "\n",
        "    def train(self, train_dataloader: DataLoader, dev_dataloader: DataLoader = None, epochs: int = 5,\n",
        "              early_stopping: bool = False, early_stopping_patience: int = 0, early_stopping_mode: str = 'max') -> dict:\n",
        "\n",
        "        early_stopping_patience_counter = 0\n",
        "\n",
        "        for epoch in range(epochs):\n",
        "            losses = []\n",
        "            self.model.train()\n",
        "            self.global_epoch = epoch\n",
        "\n",
        "            for x, x_length, y in train_dataloader:\n",
        "                self.optimizer.zero_grad()\n",
        "                result = self.model(x, x_length, y)\n",
        "                loss = result['loss']\n",
        "                losses.append(loss)\n",
        "\n",
        "                loss.backward()\n",
        "                self.optimizer.step()\n",
        "\n",
        "            mean_loss = sum(losses) / len(losses)\n",
        "            self.train_history.append(mean_loss.item())\n",
        "                    \n",
        "            if dev_dataloader:\n",
        "                validation_res = self.evaluate_loss(dev_dataloader) # if early_stopping_mode == 'min' else self.evaluate_accuracy(dev_dataloader)\n",
        "                self.valid_history.append(validation_res.item())\n",
        "\n",
        "                if early_stopping:\n",
        "                    stop = early_stopping_mode == 'min' and epoch > 0 and self.valid_history[-1] > self.valid_history[-2]\n",
        "                    stop = stop or early_stopping_mode == 'max' and epoch > 0 and self.valid_history[-1] < self.valid_history[-2]\n",
        "                    if stop:\n",
        "                        if early_stopping_patience_counter < early_stopping_patience:\n",
        "                            early_stopping_patience_counter += 1\n",
        "                        else:\n",
        "                            break\n",
        "\n",
        "        return {\n",
        "            'train_history': self.train_history,\n",
        "            'valid_history': self.valid_history,\n",
        "        }\n",
        "\n",
        "    def evaluate_accuracy(self, validation_dataloader: DataLoader):\n",
        "        correct_predictions = 0\n",
        "        num_predictions = 0\n",
        "        self.model.eval()\n",
        "\n",
        "        with torch.no_grad():\n",
        "            for x, x_length, y in validation_dataloader:\n",
        "                result = self.model(x, x_length, y)\n",
        "                predictions = torch.round(result['pred'])\n",
        "                correct_predictions += (y == predictions).sum()\n",
        "                num_predictions += y.shape[0]\n",
        "\n",
        "        return correct_predictions / num_predictions\n",
        "\n",
        "    def evaluate_loss(self, validation_dataloader: DataLoader):\n",
        "        losses = []\n",
        "        self.model.eval()\n",
        "\n",
        "        with torch.no_grad():\n",
        "            for x, x_length, y in validation_dataloader:\n",
        "                result = self.model(x, x_length, y)\n",
        "                loss = result['loss']\n",
        "                losses.append(loss)\n",
        "\n",
        "        return sum(losses) / len(losses)\n",
        "\n",
        "    def plot_losses(self):\n",
        "\n",
        "        plt.figure(figsize=(8, 6))\n",
        "\n",
        "        plt.plot(list(range(len(self.train_history))), self.train_history, label='Training loss')\n",
        "        if len(self.valid_history) > 0:\n",
        "            plt.plot(list(range(len(self.valid_history))), self.valid_history, label='Validation loss')\n",
        "            plt.title('Training vs Validation loss')\n",
        "        else:\n",
        "            plt.title('Training loss')\n",
        "\n",
        "        plt.xlabel('Epochs')\n",
        "        plt.ylabel('Loss')\n",
        "        plt.legend(loc=\"upper right\")\n",
        "\n",
        "        plt.show()\n"
      ],
      "execution_count": null,
      "outputs": []
    },
    {
      "cell_type": "markdown",
      "metadata": {
        "id": "pIxtFQQsDHfp"
      },
      "source": [
        "## Actual training"
      ]
    },
    {
      "cell_type": "code",
      "metadata": {
        "id": "gz-EuGnb01xQ",
        "colab": {
          "base_uri": "https://localhost:8080/",
          "height": 455
        },
        "outputId": "9ec28c3c-abcd-407d-9b79-fd29974cb5de"
      },
      "source": [
        "TRAIN_DATASET = WiCDisambiguationDataset.from_file(f\"{ROOT_DIR}train.jsonl\", word_vectors)\n",
        "DEV_DATASET = WiCDisambiguationDataset.from_file(f\"{ROOT_DIR}dev.jsonl\", word_vectors)\n",
        "\n",
        "hparams = HParams()\n",
        "hparams.dropout = 0.5\n",
        "hparams.lstm_bidirectional = True\n",
        "\n",
        "lr = 0.0001\n",
        "\n",
        "model = WiCDisambiguationClassifier(hparams, vectors_store, debug=False)\n",
        "optimizer = torch.optim.Adam(model.parameters(), lr=lr) if True else torch.optim.SGD(model.parameters(), lr=0.01, momentum=0.0)\n",
        "trainer = Trainer(model, optimizer)\n",
        "\n",
        "logs = trainer.train(DataLoader(TRAIN_DATASET, batch_size=32, collate_fn=rnn_collate_fn2, shuffle=True),\n",
        "    dev_dataloader=DataLoader(DEV_DATASET, batch_size=32, collate_fn=rnn_collate_fn2),\n",
        "    epochs=100, early_stopping=True, early_stopping_patience=3, early_stopping_mode='min')\n",
        "\n",
        "print(f\"Last training epoch: {trainer.global_epoch}\")\n",
        "print(f\"Final training loss     => {logs['train_history'][-1]}\")\n",
        "print(f\"Final validation loss   => {logs['valid_history'][-1]}\")\n",
        "trainer.plot_losses()"
      ],
      "execution_count": null,
      "outputs": [
        {
          "output_type": "stream",
          "text": [
            "Last training epoch: 11\n",
            "Final training loss     => 0.6738453507423401\n",
            "Final validation loss   => 0.6890289783477783\n"
          ],
          "name": "stdout"
        },
        {
          "output_type": "display_data",
          "data": {
            "image/png": "[encoded data removed]",
            "text/plain": [
              "<Figure size 576x432 with 1 Axes>"
            ]
          },
          "metadata": {
            "tags": [],
            "needs_background": "light"
          }
        }
      ]
    },
    {
      "cell_type": "markdown",
      "metadata": {
        "id": "miBWBk0FdVJp"
      },
      "source": [
        "# Prediction"
      ]
    },
    {
      "cell_type": "code",
      "metadata": {
        "id": "UCBuLN3TO7Zk"
      },
      "source": [
        "def predict(sample: torch.Tensor, sample_length: torch.Tensor, model: torch.nn.Module) -> torch.Tensor:\n",
        "    result = model(sample, sample_length)\n",
        "\n",
        "    return result['pred']"
      ],
      "execution_count": null,
      "outputs": []
    },
    {
      "cell_type": "markdown",
      "metadata": {
        "id": "XJ315Nh3u7mI"
      },
      "source": [
        "## Evaluation"
      ]
    },
    {
      "cell_type": "code",
      "metadata": {
        "id": "elIjVJuRu-Rw",
        "colab": {
          "base_uri": "https://localhost:8080/"
        },
        "outputId": "04a5f16d-f2f3-4884-d961-86d86643545e"
      },
      "source": [
        "# Load pre-trained model\n",
        "# path = f'{ROOT_DIR}model-second_approach-02052021_111740-dropout=0.0-stopwords=False-bidirectional=False-lr=0.0001-acc=0.6060-f1=0.6058.pt'\n",
        "# model = WiCDisambiguationClassifier(HParams(), vectors_store)\n",
        "# model.load_state_dict(torch.load(path, map_location='cpu'))\n",
        "# model.to('cpu')\n",
        "\n",
        "model.eval()\n",
        "\n",
        "TEST_DATASET = WiCDisambiguationDataset.from_file(f\"{ROOT_DIR}dev.jsonl\", word_vectors)\n",
        "\n",
        "labels = TEST_DATASET.encoded_labels\n",
        "predictions = list()\n",
        "\n",
        "for x, x_length, y in DataLoader(TEST_DATASET, batch_size=1, collate_fn=rnn_collate_fn2):    \n",
        "    prediction = predict(x, x_length, model)\n",
        "    predictions += [x.clone().detach() for x in torch.round(prediction)]\n",
        "\n",
        "p = precision_score(labels, predictions, average='macro')\n",
        "r = recall_score(labels, predictions, average='macro')\n",
        "f = f1_score(labels, predictions, average='macro')\n",
        "a = accuracy_score(labels, predictions)\n",
        "\n",
        "print(f'# precision: {p:.4f}')\n",
        "print(f'# recall: {r:.4f}')\n",
        "print(f'# f1: {f:.4f}')\n",
        "print(f'# acc: {a:.4f}')"
      ],
      "execution_count": null,
      "outputs": [
        {
          "output_type": "stream",
          "text": [
            "# precision: 0.5338\n",
            "# recall: 0.5300\n",
            "# f1: 0.5163\n",
            "# acc: 0.5300\n"
          ],
          "name": "stdout"
        }
      ]
    },
    {
      "cell_type": "code",
      "metadata": {
        "id": "VkxVcpNsXzko"
      },
      "source": [
        "import numpy as np\n",
        "from sklearn.metrics import confusion_matrix\n",
        "from sklearn.utils.multiclass import unique_labels\n",
        "import matplotlib.pyplot as plt\n",
        "\n",
        "def plot_confusion_matrix(y_true, y_pred, normalize=False, title=None, cmap=plt.cm.Blues):\n",
        "    \"\"\"\n",
        "    Prints and plots the confusion matrix.\n",
        "    Normalization can be applied by setting `normalize=True`.\n",
        "    \"\"\"\n",
        "\n",
        "    if not title:\n",
        "        if normalize: title = 'Normalized confusion matrix'\n",
        "        else: title = 'Confusion matrix, without normalization'\n",
        "\n",
        "    classes = np.array([True, False])\n",
        "\n",
        "    cm = confusion_matrix(y_true, y_pred, labels=classes)\n",
        "\n",
        "    if normalize: cm = cm.astype('float') / cm.sum(axis=1)[:, np.newaxis]\n",
        "\n",
        "    fig, ax = plt.subplots()\n",
        "    im = ax.imshow(cm, interpolation='nearest', cmap=cmap)\n",
        "    ax.figure.colorbar(im, ax=ax)\n",
        "    # We want to show all ticks...\n",
        "    ax.set(xticks=np.arange(cm.shape[1]),\n",
        "           yticks=np.arange(cm.shape[0]),\n",
        "           # ... and label them with the respective list entries\n",
        "           xticklabels=classes, yticklabels=classes,\n",
        "           title=title,\n",
        "           ylabel='True label',\n",
        "           xlabel='Predicted label')\n",
        "\n",
        "    ax.set_ylim(len(classes) - 0.5, -0.5)\n",
        "\n",
        "    # Rotate the tick labels and set their alignment.\n",
        "    #plt.setp(ax.get_xticklabels(), rotation=45, ha=\"right\", rotation_mode=\"anchor\")\n",
        "\n",
        "    # Loop over data dimensions and create text annotations.\n",
        "    fmt = '.2f' if normalize else 'd'\n",
        "    thresh = cm.max() / 1.25\n",
        "    for i in range(cm.shape[0]):\n",
        "        for j in range(cm.shape[1]):\n",
        "            ax.text(j, i, format(cm[i, j], fmt), ha=\"center\", va=\"center\",\n",
        "                    color=\"white\" if cm[i, j] > thresh else \"black\")\n",
        "\n",
        "    fig.tight_layout()\n",
        "    plt.show()\n",
        "\n",
        "    return plt, ax\n",
        "\n",
        "_, _ = plot_confusion_matrix(labels, predictions, normalize=True, cmap=plt.cm.Blues)"
      ],
      "execution_count": null,
      "outputs": []
    },
    {
      "cell_type": "markdown",
      "metadata": {
        "id": "4lg67M2qqCy_"
      },
      "source": [
        "## Save model state"
      ]
    },
    {
      "cell_type": "code",
      "metadata": {
        "id": "8dFTQC8eIX2c",
        "cellView": "form"
      },
      "source": [
        "# @title\n",
        "\n",
        "# Print model's state_dict\n",
        "print(\"Model's state_dict:\")\n",
        "for param_tensor in model.state_dict():\n",
        "    print(param_tensor, \"\\t\", model.state_dict()[param_tensor].size())\n",
        "\n",
        "# # Print optimizer's state_dict\n",
        "# print(\"Optimizer's state_dict:\")\n",
        "# for var_name in optimizer.state_dict():\n",
        "#     print(var_name, \"\\t\", optimizer.state_dict()[var_name])"
      ],
      "execution_count": null,
      "outputs": []
    },
    {
      "cell_type": "code",
      "metadata": {
        "id": "aTrr51xeIcy2"
      },
      "source": [
        "from datetime import datetime\n",
        "\n",
        "dt_string = datetime.now().strftime(\"%d%m%Y_%H%M%S\")\n",
        "\n",
        "torch.save(model.state_dict(), f\"{ROOT_DIR}model-second_approach-{dt_string}-dropout={hparams.dropout}-bidirectional={hparams.lstm_bidirectional}-lr={lr}-acc={a:.4f}-f1={f:.4f}.pt\")"
      ],
      "execution_count": null,
      "outputs": []
    },
    {
      "cell_type": "markdown",
      "metadata": {
        "id": "NvSMzdvkZ9dz"
      },
      "source": [
        "# Hyperparameters tuning"
      ]
    },
    {
      "cell_type": "code",
      "metadata": {
        "id": "sCxsYWgQ05cr"
      },
      "source": [
        "TRAIN_DATASET = WiCDisambiguationDataset.from_file(f\"{ROOT_DIR}train.jsonl\", word_vectors)\n",
        "DEV_DATASET = WiCDisambiguationDataset.from_file(f\"{ROOT_DIR}dev.jsonl\", word_vectors)\n",
        "labels = DEV_DATASET.encoded_labels\n",
        "hparams = HParams()\n",
        "\n",
        "stats = list()\n",
        "\n",
        "for dropout in torch.arange(0.0, 0.6, 0.1):\n",
        "    hparams.dropout = dropout\n",
        "    model = WiCDisambiguationClassifier(hparams, vectors_store)\n",
        "    optimizer = torch.optim.Adam(model.parameters(), lr=0.001)\n",
        "    trainer = Trainer(model, optimizer)\n",
        "\n",
        "    logs = trainer.train(DataLoader(TRAIN_DATASET, batch_size=32, collate_fn=rnn_collate_fn2),\n",
        "        dev_dataloader=DataLoader(DEV_DATASET, batch_size=32, collate_fn=rnn_collate_fn2),\n",
        "        epochs=50, early_stopping=True, early_stopping_patience=3)\n",
        "            \n",
        "    predictions = list()\n",
        "\n",
        "    for x, x_length, y in DataLoader(DEV_DATASET, batch_size=32, collate_fn=rnn_collate_fn2):    \n",
        "        prediction = predict(x, x_length, model)\n",
        "        predictions += [x.clone().detach() for x in torch.round(prediction)]\n",
        "\n",
        "    p = precision_score(labels, predictions, average='macro')\n",
        "    r = recall_score(labels, predictions, average='macro')\n",
        "    f = f1_score(labels, predictions, average='macro')\n",
        "    a = accuracy_score(labels, predictions)\n",
        "\n",
        "    logs['dropout'] = dropout\n",
        "    logs['precision'] = p\n",
        "    logs['recall'] = r\n",
        "    logs['f1-score'] = f\n",
        "    logs['accuracy'] = a\n",
        "    logs['validation_loss'] = logs['valid_history'][-1]\n",
        "    logs['final_epoch'] = trainer.global_epoch\n",
        "\n",
        "    print(f\"Dropout   : {dropout:.2f}\")\n",
        "    print(f\"Final epoch     : {trainer.global_epoch}\")\n",
        "    print(f\"Final training loss     => {logs['train_history'][-1]}\")\n",
        "    print(f\"Final validation loss   => {logs['valid_history'][-1]}\")\n",
        "    print(f'Precision               => {p:.4f}')\n",
        "    print(f'Recall                  => {r:.4f}')\n",
        "    print(f'F1                      => {f:.4f}')\n",
        "    print(f'Accuracy                => {a:.4f}')\n",
        "    print()\n",
        "    \n",
        "    stats.append(logs)\n",
        "\n",
        "print(stats)"
      ],
      "execution_count": null,
      "outputs": []
    },
    {
      "cell_type": "code",
      "metadata": {
        "id": "FQmUqD2l4UO-"
      },
      "source": [
        "from functools import reduce\n",
        "\n",
        "for title in [\"accuracy\", \"f1-score\"]:\n",
        "    test = reduce(lambda a, b : a if a[title] > b[title] else b, stats)\n",
        "    print(\"=\" * 70)\n",
        "    print(f\"Best {title}: {test[title]:.4f}, obtained at epoch {test['final_epoch']} with parameters:\")\n",
        "    print(f\"    Dropout         => {test['dropout']:.2f}\")\n",
        "    print()\n",
        "    print(f\"    F1-score        => {test['f1-score']:.2f}\")\n",
        "    print(f\"    Recall          => {test['recall']:.2f}\")\n",
        "    print(f\"    Precision       => {test['precision']:.2f}\")\n",
        "    print(f\"    Accuracy        => {test['accuracy']:.2f}\")\n",
        "    print(\"=\" * 70)"
      ],
      "execution_count": null,
      "outputs": []
    }
  ]
}