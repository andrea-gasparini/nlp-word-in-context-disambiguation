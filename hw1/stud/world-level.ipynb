{
  "nbformat": 4,
  "nbformat_minor": 0,
  "metadata": {
    "colab": {
      "name": "NLP 2021 - Homework 1 - first approach.ipynb",
      "provenance": [],
      "collapsed_sections": [
        "YKwI8-I6Ji9Y"
      ],
      "toc_visible": true,
      "authorship_tag": "ABX9TyPSPlIMTB4d9KPXEqVDtNMd",
      "include_colab_link": true
    },
    "kernelspec": {
      "display_name": "Python 3",
      "name": "python3"
    },
    "language_info": {
      "name": "python"
    },
    "accelerator": "GPU"
  },
  "cells": [
    {
      "cell_type": "markdown",
      "metadata": {
        "id": "view-in-github",
        "colab_type": "text"
      },
      "source": [
        "<a href=\"https://colab.research.google.com/github/andrea-gasparini/nlp-word-in-context-disambiguation/blob/main/hw1/stud/world-level.ipynb\" target=\"_parent\"><img src=\"https://colab.research.google.com/assets/colab-badge.svg\" alt=\"Open In Colab\"/></a>"
      ]
    },
    {
      "cell_type": "markdown",
      "source": [
        "# Word-in-Context (WiC) Disambiguation\n",
        "\n",
        "First homework of the Natural Language Processing course 2021 @ Sapienza University of Rome.\n",
        "\n",
        "Prof. Roberto Navigli\n",
        "\n",
        "MSc in Computer Science\n",
        "\n",
        "This notebook contains the code for the word level (first approach) solution.\n",
        "\n",
        "**Author**: Andrea Gasparini - 1813486"
      ],
      "metadata": {
        "id": "aO-6wQ3219SJ"
      }
    },
    {
      "cell_type": "markdown",
      "metadata": {
        "id": "BHPvMlXuyflb"
      },
      "source": [
        "# Setup the environment"
      ]
    },
    {
      "cell_type": "code",
      "metadata": {
        "id": "1fUsg3ll0DmB",
        "colab": {
          "base_uri": "https://localhost:8080/"
        },
        "cellView": "form",
        "outputId": "2a9e4ab8-101f-4230-dac5-bfe7d91fdc2b"
      },
      "source": [
        "# @title Imports\n",
        "\n",
        "!pip install jsonlines\n",
        "\n",
        "import jsonlines\n",
        "import json\n",
        "import os\n",
        "import re\n",
        "\n",
        "from typing import *\n",
        "from collections import Counter, defaultdict\n",
        "from matplotlib import pyplot as plt\n",
        "from tqdm.notebook import tqdm\n",
        "from sklearn.metrics import precision_score, recall_score, f1_score, accuracy_score\n",
        "\n",
        "import torch\n",
        "\n",
        "from torch import Tensor\n",
        "from torch.utils.data import Dataset, DataLoader"
      ],
      "execution_count": null,
      "outputs": [
        {
          "output_type": "stream",
          "text": [
            "Collecting jsonlines\n",
            "  Downloading https://files.pythonhosted.org/packages/d4/58/06f430ff7607a2929f80f07bfd820acbc508a4e977542fefcc522cde9dff/jsonlines-2.0.0-py3-none-any.whl\n",
            "Installing collected packages: jsonlines\n",
            "Successfully installed jsonlines-2.0.0\n"
          ],
          "name": "stdout"
        }
      ]
    },
    {
      "cell_type": "code",
      "metadata": {
        "colab": {
          "base_uri": "https://localhost:8080/"
        },
        "id": "hXpXvuQ0ifbg",
        "cellView": "form",
        "outputId": "e8dd7f03-12b6-4df4-f468-af218bacfafc"
      },
      "source": [
        "# @title Init Drive directories\n",
        "\n",
        "from google.colab import drive\n",
        "drive.mount('/content/drive', force_remount=True)\n",
        "\n",
        "ROOT_DIR = '/content/drive/My Drive/nlp_data/hw1/'\n",
        "\n",
        "assert os.path.isdir(ROOT_DIR), f\"{ROOT_DIR} is not a valid root directory\"\n",
        "\n",
        "TRAIN_JSONL = os.path.join(ROOT_DIR, \"train.jsonl\")\n",
        "\n",
        "assert os.path.isfile(TRAIN_JSONL), f\"{TRAIN_JSONL} does not contain a valid train dataset\"\n",
        "\n",
        "DEV_JSONL = os.path.join(ROOT_DIR, \"dev.jsonl\")\n",
        "\n",
        "assert os.path.isfile(DEV_JSONL), f\"{DEV_JSONL} does not contain a valid development dataset\"\n",
        "\n",
        "GLOVE_DIR = '/content/data/glove/'"
      ],
      "execution_count": null,
      "outputs": [
        {
          "output_type": "stream",
          "text": [
            "Mounted at /content/drive\n"
          ],
          "name": "stdout"
        }
      ]
    },
    {
      "cell_type": "code",
      "metadata": {
        "id": "wvD9q1yCzKqV",
        "cellView": "form"
      },
      "source": [
        "# @title Util functions\n",
        "\n",
        "\n",
        "def str_to_bool(s : str) -> bool:\n",
        "    return s == 'True'\n",
        "\n",
        "\n",
        "def visualize_distribution(dataset: str, title: str):\n",
        "    label_counter = Counter()\n",
        "\n",
        "    with open(dataset) as f:\n",
        "        for line in f:\n",
        "            sample = json.loads(line)\n",
        "            label = str_to_bool(sample['label'])\n",
        "            label_counter[label] += 1\n",
        "    \n",
        "    values = [label_counter[label] for label in label_counter]\n",
        "    labels = [str(label) for label in label_counter]\n",
        "\n",
        "    plt.bar(labels, values)\n",
        "    plt.title(title)\n",
        "    plt.show()\n",
        "\n",
        "\n",
        "def cosine_similarity(v1: torch.Tensor, v2: torch.Tensor) -> float:\n",
        "    num = torch.sum(v1 * v2)\n",
        "    den = torch.linalg.norm(v1) * torch.linalg.norm(v2)\n",
        "    return (num / den).item()\n",
        "\n",
        "\n",
        "def plot_logs(logs: Dict, title: str):\n",
        "\n",
        "    plt.figure(figsize=(8,6))\n",
        "\n",
        "    plt.plot(list(range(len(logs['train_history']))), logs['train_history'], label='Train loss')\n",
        "    if 'valid_history' in logs:\n",
        "        plt.plot(list(range(len(logs['valid_history']))), logs['valid_history'], label='Validation loss')\n",
        "    \n",
        "    plt.title(title)\n",
        "    plt.xlabel('Epochs')\n",
        "    plt.ylabel('Loss')\n",
        "    plt.legend(loc=\"lower left\")\n",
        "\n",
        "    plt.show()"
      ],
      "execution_count": null,
      "outputs": []
    },
    {
      "cell_type": "markdown",
      "metadata": {
        "id": "wnc-1Gx5yY-9"
      },
      "source": [
        "# Plot distributions"
      ]
    },
    {
      "cell_type": "code",
      "metadata": {
        "colab": {
          "base_uri": "https://localhost:8080/",
          "height": 545
        },
        "id": "E_-ARFzynB_Z",
        "outputId": "46d203dc-930b-4fbd-dc42-396596e68e96",
        "cellView": "form"
      },
      "source": [
        "# @title\n",
        "\n",
        "visualize_distribution(TRAIN_JSONL, 'Train labels distribution')\n",
        "visualize_distribution(DEV_JSONL, 'Dev labels distribution')"
      ],
      "execution_count": null,
      "outputs": [
        {
          "output_type": "display_data",
          "data": {
            "image/png": "[encoded data removed]",
            "text/plain": [
              "<Figure size 432x288 with 1 Axes>"
            ]
          },
          "metadata": {
            "tags": [],
            "needs_background": "light"
          }
        },
        {
          "output_type": "display_data",
          "data": {
            "image/png": "[encoded data removed]",
            "text/plain": [
              "<Figure size 432x288 with 1 Axes>"
            ]
          },
          "metadata": {
            "tags": [],
            "needs_background": "light"
          }
        }
      ]
    },
    {
      "cell_type": "markdown",
      "metadata": {
        "id": "1_BHN9ojqfok"
      },
      "source": [
        "# Word embeddings"
      ]
    },
    {
      "cell_type": "markdown",
      "metadata": {
        "id": "EaRFCFjYqySt"
      },
      "source": [
        "Download pre-trained GloVe word vectors and move them in a data folder"
      ]
    },
    {
      "cell_type": "code",
      "metadata": {
        "id": "gSEL_9mmp0aX"
      },
      "source": [
        "GLOVE_ARCHIVE = \"glove.6B.zip\"\n",
        "\n",
        "# ! mkdir -p {GLOVE_DIR}\n",
        "# ! wget http://nlp.stanford.edu/data/{GLOVE_ARCHIVE} -P {GLOVE_DIR}\n",
        "# ! unzip {GLOVE_DIR}{GLOVE_ARCHIVE} -d {GLOVE_DIR}\n",
        "# ! rm {GLOVE_DIR}{GLOVE_ARCHIVE}"
      ],
      "execution_count": null,
      "outputs": []
    },
    {
      "cell_type": "markdown",
      "metadata": {
        "id": "KPIzG4KjJ3vG"
      },
      "source": [
        "## Init the word vectors dictionary"
      ]
    },
    {
      "cell_type": "code",
      "metadata": {
        "id": "YXqG2LGze1Zl"
      },
      "source": [
        "class WordEmbeddings:\n",
        "    embeddings_dir = ROOT_DIR\n",
        "    unknown_embedding_files = {\n",
        "        200: \"unknown.200d.txt\"\n",
        "    }\n",
        "    glove_dir = GLOVE_DIR\n",
        "    embedding_files = {\n",
        "        50: \"glove.6B.50d.txt\",\n",
        "        100: \"glove.6B.100d.txt\",\n",
        "        200: \"glove.6B.200d.txt\",\n",
        "        300: \"glove.6B.300d.txt\"\n",
        "    }\n",
        "\n",
        "    def __init__(self, words_limit: int = 100_000, embedding_size: int = 200):\n",
        "        assert embedding_size in self.embedding_files, f\"Unsupported embedding size: {embedding_size}\"\n",
        "\n",
        "        self.words_limit = words_limit\n",
        "        self.embedding_size = embedding_size\n",
        "\n",
        "        self._init_unknown_embedding()\n",
        "        #self.UNK = torch.rand(embedding_size)\n",
        "        self.word_vectors = defaultdict(lambda: self.UNK)\n",
        "\n",
        "        self._init_data()\n",
        "\n",
        "    def _init_unknown_embedding(self):\n",
        "        assert self.embedding_size in self.unknown_embedding_files, f\"Unsupported embedding size: {self.embedding_size}\"\n",
        "\n",
        "        filename = self.unknown_embedding_files[self.embedding_size]\n",
        "        file_path = os.path.join(self.embeddings_dir, filename)\n",
        "        assert os.path.isfile(file_path), f\"unknown word embedding {filename} not found in {self.embeddings_dir}\"\n",
        "\n",
        "        with open(file_path) as f:\n",
        "            vector = f.readline().strip().split(' ')\n",
        "            self.UNK = torch.tensor([float(c) for c in vector])\n",
        "\n",
        "    def _init_data(self):\n",
        "        filename = self.embedding_files[self.embedding_size]\n",
        "        file_path = os.path.join(self.glove_dir, filename)\n",
        "\n",
        "        if not os.path.isfile(file_path):\n",
        "            file_path = os.path.join(ROOT_DIR, filename)            \n",
        "            assert os.path.isfile(file_path), f\"GloVe embedding {filename} not found in {self.glove_dir} or {ROOT_DIR}\"        \n",
        "            print(f\"Loaded from {ROOT_DIR}\")\n",
        "        else:\n",
        "            print(f\"Loaded from {self.glove_dir}\")\n",
        "\n",
        "        with open(file_path) as f:\n",
        "            for i, line in enumerate(f):\n",
        "\n",
        "                if len(self.word_vectors) >= self.words_limit:\n",
        "                    break\n",
        "\n",
        "                word, *vector = line.strip().split(' ')\n",
        "                vector = torch.tensor([float(c) for c in vector])\n",
        "\n",
        "                self.word_vectors[word] = vector\n",
        "\n",
        "    def __contains__(self, word: str) -> bool:\n",
        "        return word in self.word_vectors\n",
        "\n",
        "    def __getitem__(self, word: str) -> torch.Tensor:\n",
        "        return self.word_vectors[word]"
      ],
      "execution_count": null,
      "outputs": []
    },
    {
      "cell_type": "code",
      "metadata": {
        "id": "lgdgfEPnfyQA",
        "colab": {
          "base_uri": "https://localhost:8080/"
        },
        "outputId": "bf719324-7edc-47b3-d3d1-5e64759ea84a"
      },
      "source": [
        "word_vectors = WordEmbeddings(embedding_size=200)"
      ],
      "execution_count": null,
      "outputs": [
        {
          "output_type": "stream",
          "text": [
            "Loaded from /content/drive/My Drive/nlp_data/hw1/\n"
          ],
          "name": "stdout"
        }
      ]
    },
    {
      "cell_type": "markdown",
      "metadata": {
        "id": "Ip0-nmnHU3ug"
      },
      "source": [
        "## Sample to vector function"
      ]
    },
    {
      "cell_type": "code",
      "metadata": {
        "id": "Kcou0Yc-U7Pd",
        "colab": {
          "base_uri": "https://localhost:8080/"
        },
        "outputId": "ec3a69db-cf19-4ed5-d7bb-dbe604d3d72a"
      },
      "source": [
        "import nltk\n",
        "from nltk.corpus import stopwords\n",
        "nltk.download('stopwords')\n",
        "stopwords = set(stopwords.words('english'))\n",
        "\n",
        "def substitute_spacing_characters(string: str) -> str:\n",
        "    return re.sub(r'[\\-—_/]', ' ', string)\n",
        "\n",
        "\n",
        "def remove_special_characters(string: str) -> str:\n",
        "    return re.sub(r'[\\.,:;|!?@#$\"“”\\'’\\(\\)\\[\\]&\\\\<>0-9]', '', string)\n",
        "\n",
        "\n",
        "def sentence2vector(word_vectors: WordEmbeddings, sentence: str, target_start: int, target_weight: int) -> List[torch.Tensor]:\n",
        "    sentence = substitute_spacing_characters(sentence).lower()\n",
        "    target_word_index = sentence[:target_start].count(' ')\n",
        "\n",
        "    sentence_word_vector = list()\n",
        "\n",
        "    for i, word in enumerate(sentence.split(' ')):\n",
        "        if True or word not in stopwords:\n",
        "            word = remove_special_characters(word)\n",
        "            word_vector = word_vectors[word]\n",
        "            if i == target_word_index:\n",
        "                word_vector * target_weight\n",
        "            sentence_word_vector.append(word_vector)\n",
        "\n",
        "    return sentence_word_vector\n",
        "    \n",
        "\n",
        "def sample2vector(word_vectors: WordEmbeddings, sample: dict, separator: str = '|', target_weight: int = 10) -> torch.Tensor:\n",
        "    sentence1 = sentence2vector(word_vectors, sample['sentence1'], int(sample['start1']), int(sample['end1']), target_weight)\n",
        "    sentence2 = sentence2vector(word_vectors, sample['sentence2'], int(sample['start2']), int(sample['end2']), target_weight)\n",
        "\n",
        "    sentence1mean = torch.mean(torch.stack(sentence1), dim=0)\n",
        "    sentence2mean = torch.mean(torch.stack(sentence2), dim=0)\n",
        "    \n",
        "    sentences_word_vector = torch.cat((sentence1mean, sentence2mean))\n",
        "    \n",
        "    return sentences_word_vector"
      ],
      "execution_count": null,
      "outputs": [
        {
          "output_type": "stream",
          "text": [
            "[nltk_data] Downloading package stopwords to /root/nltk_data...\n",
            "[nltk_data]   Unzipping corpora/stopwords.zip.\n"
          ],
          "name": "stdout"
        }
      ]
    },
    {
      "cell_type": "markdown",
      "metadata": {
        "id": "OfircdliyuTx"
      },
      "source": [
        "# Model creation"
      ]
    },
    {
      "cell_type": "markdown",
      "metadata": {
        "id": "phhssenRdLTT"
      },
      "source": [
        "## Dataset class"
      ]
    },
    {
      "cell_type": "code",
      "metadata": {
        "id": "6ngAkxOEyv5V"
      },
      "source": [
        "class WiCDisambiguationDataset(Dataset):\n",
        "    target_word_weight = 10\n",
        "\n",
        "    def __init__(self, samples: List[Dict], word_embeddings: WordEmbeddings, stop_words: Optional[Set[str]] = None) -> None:\n",
        "        self.samples = samples\n",
        "        self.word_embeddings = word_embeddings\n",
        "        self.stop_words = stop_words\n",
        "\n",
        "        self.encoded_samples, self.encoded_labels = self.encode_samples(self.samples)\n",
        "\n",
        "    @staticmethod\n",
        "    def from_file(path: str, word_embeddings: WordEmbeddings, stop_words: Optional[Set[str]] = None) -> 'WiCDisambiguationDataset':\n",
        "        samples = list()\n",
        "\n",
        "        with jsonlines.open(path) as f:\n",
        "            for sample in f:\n",
        "                samples.append(sample)\n",
        "\n",
        "        return WiCDisambiguationDataset(samples, word_embeddings, stop_words)\n",
        "\n",
        "    def encode_samples(self, samples: List[Dict]) -> Tuple[List[Tensor], List[Optional[Tensor]]]:\n",
        "        encoded_samples = list()\n",
        "        encoded_labels = list()\n",
        "\n",
        "        for sample in samples:\n",
        "            sentence1_vector = self.__sentence_to_vector(sample['sentence1'], int(sample['start1']))\n",
        "            sentence2_vector = self.__sentence_to_vector(sample['sentence2'], int(sample['start2']))\n",
        "\n",
        "            sentence1_mean = torch.mean(sentence1_vector, dim=0)\n",
        "            sentence2_mean = torch.mean(sentence2_vector, dim=0)        \n",
        "\n",
        "            encoded_samples.append(torch.cat((sentence1_mean, sentence2_mean)))\n",
        "\n",
        "            if 'label' in sample:\n",
        "                encoded_label = torch.tensor(float(1 if str_to_bool(sample['label']) else 0))\n",
        "                encoded_labels.append(encoded_label)\n",
        "            else:\n",
        "                encoded_labels.append(None)\n",
        "\n",
        "        return encoded_samples, encoded_labels\n",
        "\n",
        "    def __sentence_to_vector(self, sentence: str, target_start: int) -> Tensor:\n",
        "        sentence = substitute_spacing_characters(sentence).lower()\n",
        "        target_word_index = sentence[:target_start].count(' ')\n",
        "\n",
        "        sentence_word_vector = list()\n",
        "\n",
        "        for i, word in enumerate(sentence.split(' ')):\n",
        "            if self.stop_words is None or word not in self.stop_words:\n",
        "                word = remove_special_characters(word)\n",
        "                word_vector = self.word_embeddings[word]\n",
        "                if i == target_word_index:\n",
        "                    word_vector * self.target_word_weight\n",
        "                sentence_word_vector.append(word_vector)\n",
        "\n",
        "        return torch.stack(sentence_word_vector)\n",
        "\n",
        "    def __len__(self) -> int:\n",
        "        return len(self.encoded_samples)\n",
        "\n",
        "    def __getitem__(self, idx) -> Tuple[List[Tensor], List[Optional[Tensor]]]:\n",
        "        return self.encoded_samples[idx], self.encoded_labels[idx]"
      ],
      "execution_count": null,
      "outputs": []
    },
    {
      "cell_type": "markdown",
      "metadata": {
        "id": "-j5DmUQCdMx2"
      },
      "source": [
        "## Classifier class"
      ]
    },
    {
      "cell_type": "code",
      "metadata": {
        "id": "G-XDMUHQPlJD"
      },
      "source": [
        "class WiCDisambiguationClassifier(torch.nn.Module):\n",
        "\n",
        "    def __init__(self, n_features: int, n_hidden: int):\n",
        "        super().__init__()\n",
        "        self.lin1 = torch.nn.Linear(n_features, n_hidden)\n",
        "        self.lin2 = torch.nn.Linear(n_hidden, 1)\n",
        "        self.dropout = torch.nn.Dropout(0.5)\n",
        "        self.loss_fn = torch.nn.BCELoss()\n",
        "\n",
        "    def forward(self, x: torch.Tensor, y: Optional[torch.Tensor] = None) -> Dict[str, torch.Tensor]:\n",
        "        out = self.lin1(x)\n",
        "        #out = self.dropout(out)\n",
        "        out = torch.relu(out)\n",
        "        logits = self.lin2(out).squeeze(1)\n",
        "        pred = torch.sigmoid(logits)\n",
        "\n",
        "        result = {'pred': pred, 'logits': logits}\n",
        "\n",
        "        if y is not None:\n",
        "            loss = self.loss(pred, y)\n",
        "            result['loss'] = loss\n",
        "\n",
        "        return result\n",
        "\n",
        "    def loss(self, pred, y):\n",
        "        return self.loss_fn(pred, y)"
      ],
      "execution_count": null,
      "outputs": []
    },
    {
      "cell_type": "markdown",
      "metadata": {
        "id": "v9N2iVohdReK"
      },
      "source": [
        "# Training"
      ]
    },
    {
      "cell_type": "code",
      "metadata": {
        "id": "xhiNCi8ICTn1"
      },
      "source": [
        "class Trainer:\n",
        "\n",
        "    def __init__(self, model: torch.nn.Module, optimizer: torch.optim.Optimizer) -> None:\n",
        "        self.model = model\n",
        "        self.optimizer = optimizer\n",
        "        self.train_history = list()\n",
        "        self.valid_history = list()\n",
        "        self.global_epoch = 0\n",
        "\n",
        "    def train(self, train_dataloader: DataLoader, dev_dataloader: DataLoader = None, epochs: int = 5,\n",
        "              early_stopping: bool = False, early_stopping_patience: int = 0) -> dict:\n",
        "\n",
        "        early_stopping_patience_counter = 0\n",
        "\n",
        "        for epoch in range(epochs):\n",
        "            losses = []\n",
        "            self.global_epoch = epoch\n",
        "            self.model.train()\n",
        "\n",
        "            for x, y in train_dataloader:\n",
        "                self.optimizer.zero_grad()\n",
        "                result = self.model(x, y)\n",
        "                loss = result['loss']\n",
        "                losses.append(loss)\n",
        "\n",
        "                loss.backward()\n",
        "                self.optimizer.step()\n",
        "\n",
        "            mean_loss = sum(losses) / len(losses)\n",
        "            self.train_history.append(mean_loss.item())\n",
        "                    \n",
        "            if dev_dataloader:\n",
        "                validation_loss = self.evaluate(dev_dataloader)\n",
        "                self.valid_history.append(validation_loss.item())\n",
        "\n",
        "                if early_stopping and epoch > 0 and self.valid_history[-1] > self.valid_history[-2]:\n",
        "                    if early_stopping_patience_counter < early_stopping_patience:\n",
        "                        early_stopping_patience_counter += 1\n",
        "                    else:\n",
        "                        break\n",
        "        return {\n",
        "            'train_history': self.train_history,\n",
        "            'valid_history': self.valid_history,\n",
        "        }\n",
        "\n",
        "    def evaluate(self, validation_dataloader: DataLoader):\n",
        "        losses = []\n",
        "        self.model.eval()\n",
        "\n",
        "        with torch.no_grad():\n",
        "            for x, y in validation_dataloader:\n",
        "                result = self.model(x, y)\n",
        "                loss = result['loss']\n",
        "                losses.append(loss)\n",
        "\n",
        "        return sum(losses) / len(losses)\n",
        "\n",
        "    def plot_losses(self):\n",
        "\n",
        "        plt.figure(figsize=(8, 6))\n",
        "\n",
        "        plt.plot(list(range(len(self.train_history))), self.train_history, label='Training loss')\n",
        "        if len(self.valid_history) > 0:\n",
        "            plt.plot(list(range(len(self.valid_history))), self.valid_history, label='Validation loss')\n",
        "            plt.title('Training vs Validation loss')\n",
        "        else:\n",
        "            plt.title('Training loss')\n",
        "\n",
        "        plt.xlabel('Epochs')\n",
        "        plt.ylabel('Loss')\n",
        "        plt.legend(loc=\"upper right\")\n",
        "\n",
        "        plt.show()\n"
      ],
      "execution_count": null,
      "outputs": []
    },
    {
      "cell_type": "markdown",
      "metadata": {
        "id": "pIxtFQQsDHfp"
      },
      "source": [
        "## Actual training"
      ]
    },
    {
      "cell_type": "code",
      "metadata": {
        "id": "gz-EuGnb01xQ",
        "colab": {
          "base_uri": "https://localhost:8080/",
          "height": 438
        },
        "outputId": "e4cd6464-756f-4089-bbbc-42d6c0946463"
      },
      "source": [
        "TRAIN_DATASET = WiCDisambiguationDataset.from_file(f\"{ROOT_DIR}train.jsonl\", word_vectors, stopwords)\n",
        "DEV_DATASET = WiCDisambiguationDataset.from_file(f\"{ROOT_DIR}dev.jsonl\", word_vectors, stopwords)\n",
        "\n",
        "n_features = word_vectors.embedding_size * 2\n",
        "hidden_size = n_features // 2\n",
        "lr = 0.001\n",
        "\n",
        "model = WiCDisambiguationClassifier(n_features, hidden_size)\n",
        "optimizer = torch.optim.Adam(model.parameters(), lr=0.001)\n",
        "trainer = Trainer(model, optimizer)\n",
        "\n",
        "logs = trainer.train(DataLoader(TRAIN_DATASET, batch_size=32, shuffle=True),\n",
        "    dev_dataloader=DataLoader(DEV_DATASET, batch_size=32),\n",
        "    epochs=100, early_stopping=True, early_stopping_patience=3)\n",
        "\n",
        "print(f\"Final training loss     => {logs['train_history'][-1]}\")\n",
        "print(f\"Final validation loss   => {logs['valid_history'][-1]}\")\n",
        "trainer.plot_losses()\n",
        "\n",
        "# Final training loss     => 0.6520485877990723\n",
        "# Final validation loss   => 0.6707377433776855"
      ],
      "execution_count": null,
      "outputs": [
        {
          "output_type": "stream",
          "text": [
            "Final training loss     => 0.31463977694511414\n",
            "Final validation loss   => 0.7088106870651245\n"
          ],
          "name": "stdout"
        },
        {
          "output_type": "display_data",
          "data": {
            "image/png": "[encoded data removed]",
            "text/plain": [
              "<Figure size 576x432 with 1 Axes>"
            ]
          },
          "metadata": {
            "tags": [],
            "needs_background": "light"
          }
        }
      ]
    },
    {
      "cell_type": "markdown",
      "metadata": {
        "id": "miBWBk0FdVJp"
      },
      "source": [
        "# Prediction"
      ]
    },
    {
      "cell_type": "code",
      "metadata": {
        "id": "UCBuLN3TO7Zk",
        "cellView": "form"
      },
      "source": [
        "# @title Util functions\n",
        "\n",
        "def predict(sample: Union[dict, torch.Tensor], model: torch.nn.Module, extraction_fn: Callable[[dict], torch.Tensor]):\n",
        "    \n",
        "    if isinstance(sample, dict): sample = extraction_fn(word_vectors, sample)\n",
        "\n",
        "    # our nn expects a batched input\n",
        "    # even if we have a single sample, we have to mock this structure converting a (11)-shape vector into (1, 11)-shape one\n",
        "    batched_sample = sample.unsqueeze(0)\n",
        "\n",
        "    # actual forward\n",
        "    result = model(batched_sample)\n",
        "\n",
        "    return result['pred'][0].item()\n",
        "\n",
        "def predict_list(samples: List[dict]):\n",
        "    \n",
        "    vector_samples = [sample2vector(word_vectors, sample) for sample in samples]\n",
        "\n",
        "    # actual forward\n",
        "    result = model(torch.stack(vector_samples))\n",
        "\n",
        "    return [result['pred'][i].item() for i in range(len(samples))]\n",
        "\n",
        "def predict_and_print_raw_sample(sample: dict):\n",
        "    print(f'=' * 125)\n",
        "    print(f'# sample: {sample}')\n",
        "    print(f'# gold class: {str_to_bool(sample[\"label\"])}')\n",
        "    prediction = predict(sample, model, sample2vector2)\n",
        "    print(f'# predicted class: {prediction} -> {True if round(prediction) > 0.5 else False}')\n",
        "    print(f'=' * 125)"
      ],
      "execution_count": null,
      "outputs": []
    },
    {
      "cell_type": "markdown",
      "metadata": {
        "id": "XJ315Nh3u7mI"
      },
      "source": [
        "## Evaluation"
      ]
    },
    {
      "cell_type": "code",
      "metadata": {
        "id": "elIjVJuRu-Rw",
        "colab": {
          "base_uri": "https://localhost:8080/"
        },
        "outputId": "70394ed1-00de-4436-95c8-af35913bc6cb"
      },
      "source": [
        "# Load pre-trained model\n",
        "# path = f'{ROOT_DIR}model-first_approach-02052021_103330-lr=0.001-n_features=400-hidden_size=200-acc=0.6770-f1=0.6770.pt'\n",
        "# model = WiCDisambiguationClassifier(n_features, hidden_size)\n",
        "# model.load_state_dict(torch.load(path, map_location='cpu'))\n",
        "# model.to('cpu')\n",
        "\n",
        "model.eval()\n",
        "\n",
        "TEST_DATASET = WiCDisambiguationDataset.from_file(f\"{ROOT_DIR}dev.jsonl\", word_vectors, stopwords)\n",
        "\n",
        "labels = TEST_DATASET.encoded_labels\n",
        "predictions = list()\n",
        "\n",
        "for i, (sample, label) in enumerate(TEST_DATASET):\n",
        "    prediction = predict(sample, model, sample2vector)\n",
        "    predictions.append(torch.tensor(float(round(prediction))))\n",
        "\n",
        "p = precision_score(labels, predictions, average='macro')\n",
        "r = recall_score(labels, predictions, average='macro')\n",
        "f = f1_score(labels, predictions, average='macro')\n",
        "a = accuracy_score(labels, predictions)\n",
        "\n",
        "print(f'# precision: {p:.4f}')\n",
        "print(f'# recall: {r:.4f}')\n",
        "print(f'# f1: {f:.4f}')\n",
        "print(f'# acc: {a:.4f}')"
      ],
      "execution_count": null,
      "outputs": [
        {
          "output_type": "stream",
          "text": [
            "# precision: 0.6771\n",
            "# recall: 0.6770\n",
            "# f1: 0.6770\n",
            "# acc: 0.6770\n"
          ],
          "name": "stdout"
        }
      ]
    },
    {
      "cell_type": "markdown",
      "metadata": {
        "id": "H6vs3YOKnQF6"
      },
      "source": [
        "### Confusion matrix"
      ]
    },
    {
      "cell_type": "code",
      "metadata": {
        "id": "lFre6QrtCyk4",
        "colab": {
          "base_uri": "https://localhost:8080/",
          "height": 297
        },
        "outputId": "aebf62d4-c144-4b48-d905-76fe6d005f84"
      },
      "source": [
        "import numpy as np\n",
        "from sklearn.metrics import confusion_matrix\n",
        "from sklearn.utils.multiclass import unique_labels\n",
        "import matplotlib.pyplot as plt\n",
        "\n",
        "def plot_confusion_matrix(y_true, y_pred, normalize=False, title=None, cmap=plt.cm.Blues):\n",
        "    \"\"\"\n",
        "    Prints and plots the confusion matrix.\n",
        "    Normalization can be applied by setting `normalize=True`.\n",
        "    \"\"\"\n",
        "\n",
        "    if not title:\n",
        "        if normalize: title = 'Normalized confusion matrix'\n",
        "        else: title = 'Confusion matrix, without normalization'\n",
        "\n",
        "    classes = np.array([True, False])\n",
        "\n",
        "    cm = confusion_matrix(y_true, y_pred, labels=classes)\n",
        "\n",
        "    if normalize: cm = cm.astype('float') / cm.sum(axis=1)[:, np.newaxis]\n",
        "\n",
        "    fig, ax = plt.subplots()\n",
        "    im = ax.imshow(cm, interpolation='nearest', cmap=cmap)\n",
        "    ax.figure.colorbar(im, ax=ax)\n",
        "    # We want to show all ticks...\n",
        "    ax.set(xticks=np.arange(cm.shape[1]),\n",
        "           yticks=np.arange(cm.shape[0]),\n",
        "           # ... and label them with the respective list entries\n",
        "           xticklabels=classes, yticklabels=classes,\n",
        "           title=title,\n",
        "           ylabel='True label',\n",
        "           xlabel='Predicted label')\n",
        "\n",
        "    ax.set_ylim(len(classes) - 0.5, -0.5)\n",
        "\n",
        "    # Rotate the tick labels and set their alignment.\n",
        "    #plt.setp(ax.get_xticklabels(), rotation=45, ha=\"right\", rotation_mode=\"anchor\")\n",
        "\n",
        "    # Loop over data dimensions and create text annotations.\n",
        "    fmt = '.2f' if normalize else 'd'\n",
        "    thresh = cm.max() / 1.25\n",
        "    for i in range(cm.shape[0]):\n",
        "        for j in range(cm.shape[1]):\n",
        "            ax.text(j, i, format(cm[i, j], fmt), ha=\"center\", va=\"center\",\n",
        "                    color=\"white\" if cm[i, j] > thresh else \"black\")\n",
        "\n",
        "    fig.tight_layout()\n",
        "    plt.show()\n",
        "\n",
        "    return plt, ax\n",
        "\n",
        "_, _ = plot_confusion_matrix(labels, predictions, normalize=False, cmap=plt.cm.Blues)"
      ],
      "execution_count": null,
      "outputs": [
        {
          "output_type": "display_data",
          "data": {
            "image/png": "[encoded data removed]",
            "text/plain": [
              "<Figure size 432x288 with 2 Axes>"
            ]
          },
          "metadata": {
            "tags": [],
            "needs_background": "light"
          }
        }
      ]
    },
    {
      "cell_type": "markdown",
      "metadata": {
        "id": "o9u546i5ng6j"
      },
      "source": [
        "### Save model state"
      ]
    },
    {
      "cell_type": "code",
      "metadata": {
        "id": "aTrr51xeIcy2"
      },
      "source": [
        "from datetime import datetime\n",
        "\n",
        "dt_string = datetime.now().strftime(\"%d%m%Y_%H%M%S\")\n",
        "\n",
        "torch.save(model.state_dict(), f\"{ROOT_DIR}model-first_approach-{dt_string}-lr={lr}-n_features={n_features}-hidden_size={hidden_size}-acc={a:.4f}-f1={f:.4f}.pt\")"
      ],
      "execution_count": null,
      "outputs": []
    },
    {
      "cell_type": "markdown",
      "metadata": {
        "id": "29zhJVI603vq"
      },
      "source": [
        "# Hyperparameters tuning"
      ]
    },
    {
      "cell_type": "markdown",
      "metadata": {
        "id": "9x-Cx5GG080S"
      },
      "source": [
        "## Optimizer"
      ]
    },
    {
      "cell_type": "code",
      "metadata": {
        "id": "sCxsYWgQ05cr"
      },
      "source": [
        "TRAIN_DATASET = WiCDisambiguationDataset.from_file(TRAIN_JSONL, word_vectors, sample2vector)\n",
        "DEV_DATASET = WiCDisambiguationDataset.from_file(f\"{ROOT_DIR}dev.jsonl\", word_vectors, sample2vector)\n",
        "labels = DEV_DATASET.encoded_labels\n",
        "\n",
        "stats = list()\n",
        "\n",
        "for lr in torch.arange(0.0001, 0.01, 0.0001):\n",
        "    model = WiCDisambiguationClassifier(word_vectors.embedding_size, 100)\n",
        "    optimizer = torch.optim.Adam(model.parameters(), lr=lr)\n",
        "    #optimizer = torch.optim.SGD(model.parameters(), lr=lr, momentum=momentum)\n",
        "    trainer = Trainer(model, optimizer)\n",
        "\n",
        "    logs = trainer.train(DataLoader(TRAIN_DATASET, batch_size=32),\n",
        "        dev_dataloader=DataLoader(DEV_DATASET, batch_size=32),\n",
        "        epochs=100, early_stopping=True, early_stopping_patience=3)\n",
        "            \n",
        "    predictions = list()\n",
        "\n",
        "    for sample, label in DEV_DATASET:\n",
        "        prediction = predict(sample, model, sample2vector)\n",
        "        predictions.append(torch.tensor(float(round(prediction))))\n",
        "\n",
        "    p = precision_score(labels, predictions, average='macro')\n",
        "    r = recall_score(labels, predictions, average='macro')\n",
        "    f = f1_score(labels, predictions, average='macro')\n",
        "    a = accuracy_score(labels, predictions)\n",
        "\n",
        "    logs['lr'] = lr\n",
        "    #logs['momentum'] = momentum\n",
        "    logs['precision'] = p\n",
        "    logs['recall'] = r\n",
        "    logs['f1-score'] = f\n",
        "    logs['accuracy'] = a\n",
        "    logs['validation_loss'] = logs['valid_history'][-1]\n",
        "    logs['final_epoch'] = trainer.global_epoch\n",
        "\n",
        "    print(f\"Learning rate   : {lr:.4f}\")\n",
        "    #print(f\"Momentum        : {momentum:.4f}\")\n",
        "    print(f\"Final epoch     : {trainer.global_epoch}\")\n",
        "    print(f\"Final training loss     => {logs['train_history'][-1]}\")\n",
        "    print(f\"Final validation loss   => {logs['valid_history'][-1]}\")\n",
        "    print(f'Precision               => {p:.4f}')\n",
        "    print(f'Recall                  => {r:.4f}')\n",
        "    print(f'F1                      => {f:.4f}')\n",
        "    print(f'Accuracy                => {a:.4f}')\n",
        "    print()\n",
        "    \n",
        "    stats.append(logs)\n",
        "\n",
        "print(stats)"
      ],
      "execution_count": null,
      "outputs": []
    },
    {
      "cell_type": "code",
      "metadata": {
        "id": "FQmUqD2l4UO-"
      },
      "source": [
        "from functools import reduce\n",
        "\n",
        "for title in [\"accuracy\", \"f1-score\"]:\n",
        "    test = reduce(lambda a, b : a if a[title] > b[title] else b, stats)\n",
        "    print(f\"Best {title}: {test[title]}, obtained at epoch {test['final_epoch']} with parameters:\")\n",
        "    print(f\"    Learning Rate   => {test['lr']:.4f}\")\n",
        "    #print(f\"    Momentum        => {test['momentum']:.4f}\")\n",
        "    print()\n",
        "    print(f\"    F1-score        => {test['f1-score']:.4f}\")\n",
        "    print(f\"    Recall          => {test['recall']:.4f}\")\n",
        "    print(f\"    Precision       => {test['precision']:.4f}\")\n",
        "    print(f\"    Accuracy        => {test['accuracy']:.4f}\")\n",
        "    print(\"=\" * 70)"
      ],
      "execution_count": null,
      "outputs": []
    }
  ]
}